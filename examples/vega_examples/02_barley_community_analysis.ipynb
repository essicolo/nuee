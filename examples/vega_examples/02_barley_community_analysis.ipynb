{
 "cells": [
  {
   "cell_type": "markdown",
   "metadata": {},
   "source": [
    "# Community Analysis with Barley Dataset\n",
    "\n",
    "This notebook demonstrates community ecology analysis using the barley dataset from vega-datasets.\n",
    "\n",
    "We'll treat:\n",
    "- **Sites**: Different locations\n",
    "- **Species**: Barley varieties\n",
    "- **Abundances**: Yield values\n",
    "- **Environmental variables**: Year"
   ]
  },
  {
   "cell_type": "code",
   "execution_count": null,
   "metadata": {},
   "outputs": [],
   "source": [
    "# Import required libraries\n",
    "import nuee\n",
    "import pandas as pd\n",
    "import numpy as np\n",
    "import matplotlib.pyplot as plt\n",
    "import seaborn as sns\n",
    "from vega_datasets import data\n",
    "\n",
    "# Set plotting style\n",
    "sns.set_style('whitegrid')\n",
    "plt.rcParams['figure.figsize'] = (12, 6)"
   ]
  },
  {
   "cell_type": "markdown",
   "metadata": {},
   "source": [
    "## Load and Prepare Data"
   ]
  },
  {
   "cell_type": "code",
   "execution_count": null,
   "metadata": {},
   "outputs": [],
   "source": [
    "# Load barley dataset\n",
    "barley_df = data.barley()\n",
    "print(f\"Dataset shape: {barley_df.shape}\")\n",
    "print(f\"\\nDataset info:\")\n",
    "print(barley_df.info())\n",
    "print(f\"\\nFirst few rows:\")\n",
    "barley_df.head(10)"
   ]
  },
  {
   "cell_type": "code",
   "execution_count": null,
   "metadata": {},
   "outputs": [],
   "source": [
    "# Reshape data: sites x species matrix\n",
    "# Create a pivot table with sites as rows and varieties as columns\n",
    "community_matrix = barley_df.pivot_table(\n",
    "    index='site',\n",
    "    columns='variety', \n",
    "    values='yield',\n",
    "    aggfunc='mean'\n",
    ").fillna(0)\n",
    "\n",
    "print(f\"Community matrix shape: {community_matrix.shape}\")\n",
    "print(f\"\\nSites: {list(community_matrix.index)}\")\n",
    "print(f\"\\nVarieties: {list(community_matrix.columns)}\")\n",
    "print(f\"\\nCommunity matrix:\")\n",
    "community_matrix"
   ]
  },
  {
   "cell_type": "code",
   "execution_count": null,
   "metadata": {},
   "outputs": [],
   "source": [
    "# Create environmental data (year effects by site)\n",
    "env_data = barley_df.groupby('site').agg({\n",
    "    'yield': ['mean', 'std'],\n",
    "    'year': lambda x: x.mode()[0] if len(x.mode()) > 0 else x.iloc[0]\n",
    "}).reset_index()\n",
    "env_data.columns = ['site', 'mean_yield', 'std_yield', 'year']\n",
    "env_data = env_data.set_index('site')\n",
    "print(\"Environmental data:\")\n",
    "env_data"
   ]
  },
  {
   "cell_type": "markdown",
   "metadata": {},
   "source": [
    "## Diversity Analysis\n",
    "\n",
    "Calculate diversity indices for each site."
   ]
  },
  {
   "cell_type": "code",
   "execution_count": null,
   "metadata": {},
   "outputs": [],
   "source": "# Calculate diversity indices\nshannon_div = nuee.shannon(community_matrix)\nsimpson_div = nuee.simpson(community_matrix)\nrichness = nuee.specnumber(community_matrix)\nevenness_div = nuee.evenness(community_matrix)\n\n# Create diversity summary\ndiversity_summary = pd.DataFrame({\n    'Shannon': shannon_div.values,\n    'Simpson': simpson_div.values,\n    'Richness': richness.values,\n    'Evenness': evenness_div.values\n}, index=community_matrix.index)\n\nprint(\"Diversity indices by site:\")\ndiversity_summary"
  },
  {
   "cell_type": "code",
   "execution_count": null,
   "metadata": {},
   "outputs": [],
   "source": [
    "# Visualize diversity patterns\n",
    "fig, axes = plt.subplots(2, 2, figsize=(14, 10))\n",
    "axes = axes.ravel()\n",
    "\n",
    "metrics = ['Shannon', 'Simpson', 'Richness', 'Evenness']\n",
    "colors = sns.color_palette('viridis', n_colors=len(diversity_summary))\n",
    "\n",
    "for idx, metric in enumerate(metrics):\n",
    "    diversity_summary[metric].plot(kind='bar', ax=axes[idx], color=colors)\n",
    "    axes[idx].set_title(f'{metric} Diversity by Site', fontsize=12, fontweight='bold')\n",
    "    axes[idx].set_xlabel('Site')\n",
    "    axes[idx].set_ylabel(metric)\n",
    "    axes[idx].tick_params(axis='x', rotation=45)\n",
    "    axes[idx].grid(True, alpha=0.3)\n",
    "\n",
    "plt.tight_layout()\n",
    "plt.show()"
   ]
  },
  {
   "cell_type": "markdown",
   "metadata": {},
   "source": [
    "## Ordination Analysis\n",
    "\n",
    "### NMDS (Non-metric Multidimensional Scaling)"
   ]
  },
  {
   "cell_type": "code",
   "execution_count": null,
   "metadata": {},
   "outputs": [],
   "source": [
    "# Perform NMDS ordination\n",
    "nmds_result = nuee.metaMDS(community_matrix, k=2, distance='bray', trymax=50, trace=True)\n",
    "print(f\"\\nNMDS Stress: {nmds_result.stress:.4f}\")\n",
    "print(f\"Converged: {nmds_result.converged}\")"
   ]
  },
  {
   "cell_type": "code",
   "execution_count": null,
   "metadata": {},
   "outputs": [],
   "source": [
    "# Extract NMDS scores\n",
    "nmds_scores = pd.DataFrame(\n",
    "    nmds_result.points,\n",
    "    columns=['NMDS1', 'NMDS2'],\n",
    "    index=community_matrix.index\n",
    ")\n",
    "\n",
    "# Plot NMDS ordination\n",
    "fig, ax = plt.subplots(figsize=(12, 8))\n",
    "\n",
    "ax.scatter(nmds_scores['NMDS1'], nmds_scores['NMDS2'], \n",
    "           s=200, alpha=0.7, c=colors, edgecolors='black', linewidth=2)\n",
    "\n",
    "# Add site labels\n",
    "for idx, site in enumerate(nmds_scores.index):\n",
    "    ax.annotate(site, \n",
    "                (nmds_scores['NMDS1'].iloc[idx], nmds_scores['NMDS2'].iloc[idx]),\n",
    "                xytext=(5, 5), textcoords='offset points',\n",
    "                fontsize=10, fontweight='bold')\n",
    "\n",
    "ax.set_xlabel('NMDS1', fontsize=12)\n",
    "ax.set_ylabel('NMDS2', fontsize=12)\n",
    "ax.set_title(f'NMDS Ordination of Barley Sites\\nStress: {nmds_result.stress:.4f}',\n",
    "             fontsize=14, fontweight='bold')\n",
    "ax.grid(True, alpha=0.3)\n",
    "ax.axhline(y=0, color='k', linestyle='--', alpha=0.3)\n",
    "ax.axvline(x=0, color='k', linestyle='--', alpha=0.3)\n",
    "\n",
    "plt.tight_layout()\n",
    "plt.show()"
   ]
  },
  {
   "cell_type": "markdown",
   "metadata": {},
   "source": [
    "### PCA with Biplot"
   ]
  },
  {
   "cell_type": "code",
   "execution_count": null,
   "metadata": {},
   "outputs": [],
   "source": [
    "# Perform PCA\n",
    "pca_result = nuee.pca(community_matrix)\n",
    "\n",
    "# Create biplot\n",
    "fig = nuee.biplot(pca_result)\n",
    "plt.title('PCA Biplot of Barley Communities', fontsize=14, fontweight='bold')\n",
    "plt.tight_layout()\n",
    "plt.show()"
   ]
  },
  {
   "cell_type": "markdown",
   "metadata": {},
   "source": [
    "## Dissimilarity Analysis"
   ]
  },
  {
   "cell_type": "code",
   "execution_count": null,
   "metadata": {},
   "outputs": [],
   "source": [
    "# Calculate Bray-Curtis dissimilarity\n",
    "dist_matrix = nuee.vegdist(community_matrix, method='bray')\n",
    "\n",
    "# Visualize dissimilarity matrix\n",
    "fig, ax = plt.subplots(figsize=(10, 8))\n",
    "im = ax.imshow(dist_matrix, cmap='YlOrRd', aspect='auto')\n",
    "\n",
    "# Set ticks and labels\n",
    "ax.set_xticks(np.arange(len(community_matrix.index)))\n",
    "ax.set_yticks(np.arange(len(community_matrix.index)))\n",
    "ax.set_xticklabels(community_matrix.index, rotation=45, ha='right')\n",
    "ax.set_yticklabels(community_matrix.index)\n",
    "\n",
    "# Add colorbar\n",
    "cbar = plt.colorbar(im, ax=ax)\n",
    "cbar.set_label('Bray-Curtis Dissimilarity', rotation=270, labelpad=20)\n",
    "\n",
    "ax.set_title('Bray-Curtis Dissimilarity Matrix', fontsize=14, fontweight='bold')\n",
    "plt.tight_layout()\n",
    "plt.show()"
   ]
  },
  {
   "cell_type": "markdown",
   "metadata": {},
   "source": [
    "## Clustering Analysis"
   ]
  },
  {
   "cell_type": "code",
   "execution_count": null,
   "metadata": {},
   "outputs": [],
   "source": [
    "# Hierarchical clustering\n",
    "from scipy.cluster.hierarchy import dendrogram, linkage\n",
    "\n",
    "# Perform hierarchical clustering\n",
    "linkage_matrix = linkage(dist_matrix, method='average')\n",
    "\n",
    "# Plot dendrogram\n",
    "fig, ax = plt.subplots(figsize=(12, 6))\n",
    "dendrogram(linkage_matrix, labels=community_matrix.index, ax=ax,\n",
    "           leaf_font_size=12, color_threshold=0.7*max(linkage_matrix[:, 2]))\n",
    "\n",
    "ax.set_title('Hierarchical Clustering of Barley Sites\\n(Based on Variety Composition)',\n",
    "             fontsize=14, fontweight='bold')\n",
    "ax.set_xlabel('Site', fontsize=12)\n",
    "ax.set_ylabel('Bray-Curtis Dissimilarity', fontsize=12)\n",
    "\n",
    "plt.tight_layout()\n",
    "plt.show()"
   ]
  },
  {
   "cell_type": "markdown",
   "metadata": {},
   "source": [
    "## Species Composition Heatmap"
   ]
  },
  {
   "cell_type": "code",
   "execution_count": null,
   "metadata": {},
   "outputs": [],
   "source": [
    "# Create heatmap of variety composition\n",
    "fig, ax = plt.subplots(figsize=(12, 6))\n",
    "\n",
    "# Normalize by row (site) to show relative composition\n",
    "community_normalized = community_matrix.div(community_matrix.sum(axis=1), axis=0)\n",
    "\n",
    "sns.heatmap(community_normalized, annot=True, fmt='.2f', cmap='YlGnBu', \n",
    "            cbar_kws={'label': 'Relative Yield'}, ax=ax)\n",
    "\n",
    "ax.set_title('Barley Variety Composition by Site\\n(Relative Yields)', \n",
    "             fontsize=14, fontweight='bold')\n",
    "ax.set_xlabel('Variety', fontsize=12)\n",
    "ax.set_ylabel('Site', fontsize=12)\n",
    "\n",
    "plt.tight_layout()\n",
    "plt.show()"
   ]
  },
  {
   "cell_type": "markdown",
   "metadata": {},
   "source": [
    "## Summary\n",
    "\n",
    "This notebook demonstrated:\n",
    "1. Reshaping data into a community matrix format\n",
    "2. Calculating multiple diversity indices\n",
    "3. Performing NMDS and PCA ordination\n",
    "4. Analyzing dissimilarity patterns\n",
    "5. Hierarchical clustering of sites\n",
    "6. Visualizing species composition\n",
    "\n",
    "The analysis reveals patterns in barley variety performance across different sites, showing which sites have similar variety compositions and yields."
   ]
  }
 ],
 "metadata": {
  "kernelspec": {
   "display_name": "Python 3",
   "language": "python",
   "name": "python3"
  },
  "language_info": {
   "codemirror_mode": {
    "name": "ipython",
    "version": 3
   },
   "file_extension": ".py",
   "mimetype": "text/x-python",
   "name": "python",
   "nbconvert_exporter": "python",
   "pygments_lexer": "ipython3",
   "version": "3.8.0"
  }
 },
 "nbformat": 4,
 "nbformat_minor": 4
}