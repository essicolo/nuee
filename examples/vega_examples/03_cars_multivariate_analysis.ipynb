{
 "cells": [
  {
   "cell_type": "markdown",
   "metadata": {},
   "source": [
    "# Multivariate Analysis with Cars Dataset\n",
    "\n",
    "This notebook demonstrates multivariate analysis using the cars dataset from vega-datasets.\n",
    "\n",
    "We'll treat:\n",
    "- **Observations**: Individual car models\n",
    "- **Variables**: Performance and specification metrics\n",
    "- **Groups**: Origin (USA, Europe, Japan)"
   ]
  },
  {
   "cell_type": "code",
   "execution_count": null,
   "metadata": {},
   "outputs": [],
   "source": [
    "# Import required libraries\n",
    "import nuee\n",
    "import pandas as pd\n",
    "import numpy as np\n",
    "import matplotlib.pyplot as plt\n",
    "import seaborn as sns\n",
    "from vega_datasets import data\n",
    "\n",
    "# Set plotting style\n",
    "sns.set_style('whitegrid')\n",
    "plt.rcParams['figure.figsize'] = (12, 6)"
   ]
  },
  {
   "cell_type": "markdown",
   "metadata": {},
   "source": [
    "## Load and Prepare Data"
   ]
  },
  {
   "cell_type": "code",
   "execution_count": null,
   "metadata": {},
   "outputs": [],
   "source": [
    "# Load cars dataset\n",
    "cars_df = data.cars()\n",
    "print(f\"Dataset shape: {cars_df.shape}\")\n",
    "print(f\"\\nColumns: {list(cars_df.columns)}\")\n",
    "print(f\"\\nFirst few rows:\")\n",
    "cars_df.head()"
   ]
  },
  {
   "cell_type": "code",
   "execution_count": null,
   "metadata": {},
   "outputs": [],
   "source": [
    "# Check for missing values and basic statistics\n",
    "print(\"Missing values:\")\n",
    "print(cars_df.isnull().sum())\n",
    "print(f\"\\nOrigin distribution:\")\n",
    "print(cars_df['Origin'].value_counts())"
   ]
  },
  {
   "cell_type": "code",
   "execution_count": null,
   "metadata": {},
   "outputs": [],
   "source": [
    "# Clean and prepare data\n",
    "# Remove rows with missing values\n",
    "cars_clean = cars_df.dropna()\n",
    "\n",
    "# Select numeric columns for analysis\n",
    "numeric_cols = ['Miles_per_Gallon', 'Cylinders', 'Displacement', \n",
    "                'Horsepower', 'Weight_in_lbs', 'Acceleration']\n",
    "cars_numeric = cars_clean[numeric_cols]\n",
    "\n",
    "# Store grouping variable\n",
    "origin_groups = cars_clean['Origin']\n",
    "\n",
    "print(f\"Clean dataset shape: {cars_clean.shape}\")\n",
    "print(f\"\\nNumeric data shape: {cars_numeric.shape}\")\n",
    "cars_numeric.describe()"
   ]
  },
  {
   "cell_type": "markdown",
   "metadata": {},
   "source": [
    "## Exploratory Data Analysis"
   ]
  },
  {
   "cell_type": "code",
   "execution_count": null,
   "metadata": {},
   "outputs": [],
   "source": [
    "# Correlation matrix\n",
    "fig, ax = plt.subplots(figsize=(10, 8))\n",
    "correlation = cars_numeric.corr()\n",
    "sns.heatmap(correlation, annot=True, fmt='.2f', cmap='coolwarm', \n",
    "            center=0, square=True, ax=ax)\n",
    "ax.set_title('Correlation Matrix of Car Attributes', fontsize=14, fontweight='bold')\n",
    "plt.tight_layout()\n",
    "plt.show()"
   ]
  },
  {
   "cell_type": "markdown",
   "metadata": {},
   "source": [
    "## Principal Component Analysis (PCA)"
   ]
  },
  {
   "cell_type": "code",
   "execution_count": null,
   "metadata": {},
   "outputs": [],
   "source": "# Perform PCA\npca_result = nuee.pca(cars_numeric)\n\n# Get variance explained\nvar_explained = pca_result.eigenvalues / pca_result.eigenvalues.sum() * 100\ncumvar_explained = np.cumsum(var_explained)\n\nprint(\"Variance explained by each component:\")\nfor i, (var, cumvar) in enumerate(zip(var_explained[:4], cumvar_explained[:4])):\n    print(f\"PC{i+1}: {var:.2f}% (Cumulative: {cumvar:.2f}%)\")"
  },
  {
   "cell_type": "code",
   "execution_count": null,
   "metadata": {},
   "outputs": [],
   "source": [
    "# Scree plot\n",
    "fig, ax = plt.subplots(figsize=(10, 6))\n",
    "ax.bar(range(1, len(var_explained)+1), var_explained, alpha=0.7, color='steelblue')\n",
    "ax.plot(range(1, len(cumvar_explained)+1), cumvar_explained, 'ro-', linewidth=2)\n",
    "ax.set_xlabel('Principal Component', fontsize=12)\n",
    "ax.set_ylabel('Variance Explained (%)', fontsize=12)\n",
    "ax.set_title('Scree Plot', fontsize=14, fontweight='bold')\n",
    "ax.legend(['Cumulative', 'Individual'], loc='right')\n",
    "ax.grid(True, alpha=0.3)\n",
    "plt.tight_layout()\n",
    "plt.show()"
   ]
  },
  {
   "cell_type": "code",
   "execution_count": null,
   "metadata": {},
   "outputs": [],
   "source": "# Extract PCA scores\npca_scores = pd.DataFrame(\n    pca_result.points[:, :2],\n    columns=['PC1', 'PC2'],\n    index=cars_numeric.index\n)\npca_scores['Origin'] = origin_groups.values\n\n# Plot PCA ordination colored by origin\nfig, ax = plt.subplots(figsize=(12, 8))\n\norigins = pca_scores['Origin'].unique()\ncolors = sns.color_palette('Set1', n_colors=len(origins))\n\nfor origin, color in zip(origins, colors):\n    subset = pca_scores[pca_scores['Origin'] == origin]\n    ax.scatter(subset['PC1'], subset['PC2'], \n               label=origin, alpha=0.6, s=80, color=color, edgecolors='black', linewidth=0.5)\n\nax.set_xlabel(f'PC1 ({var_explained[0]:.1f}%)', fontsize=12)\nax.set_ylabel(f'PC2 ({var_explained[1]:.1f}%)', fontsize=12)\nax.set_title('PCA Ordination of Cars by Origin', fontsize=14, fontweight='bold')\nax.legend(title='Origin', fontsize=10)\nax.grid(True, alpha=0.3)\nax.axhline(y=0, color='k', linestyle='--', alpha=0.3)\nax.axvline(x=0, color='k', linestyle='--', alpha=0.3)\n\nplt.tight_layout()\nplt.show()"
  },
  {
   "cell_type": "markdown",
   "metadata": {},
   "source": [
    "## PCA Biplot with Variable Loadings"
   ]
  },
  {
   "cell_type": "code",
   "execution_count": null,
   "metadata": {},
   "outputs": [],
   "source": "# Create biplot\nfig = nuee.biplot(pca_result)\nplt.title('PCA Biplot of Car Attributes', fontsize=14, fontweight='bold')\nplt.tight_layout()\nplt.show()"
  },
  {
   "cell_type": "markdown",
   "metadata": {},
   "source": [
    "## NMDS Ordination"
   ]
  },
  {
   "cell_type": "code",
   "execution_count": null,
   "metadata": {},
   "outputs": [],
   "source": [
    "# Standardize data for NMDS\n",
    "from sklearn.preprocessing import StandardScaler\n",
    "scaler = StandardScaler()\n",
    "cars_scaled = pd.DataFrame(\n",
    "    scaler.fit_transform(cars_numeric),\n",
    "    columns=cars_numeric.columns,\n",
    "    index=cars_numeric.index\n",
    ")\n",
    "\n",
    "# Make all values positive for distance calculation\n",
    "cars_positive = cars_scaled - cars_scaled.min().min() + 0.1\n",
    "\n",
    "# Perform NMDS\n",
    "nmds_result = nuee.metaMDS(cars_positive, k=2, distance='euclidean', trymax=50, trace=True)\n",
    "print(f\"\\nNMDS Stress: {nmds_result.stress:.4f}\")\n",
    "print(f\"Converged: {nmds_result.converged}\")"
   ]
  },
  {
   "cell_type": "code",
   "execution_count": null,
   "metadata": {},
   "outputs": [],
   "source": [
    "# Extract NMDS scores\n",
    "nmds_scores = pd.DataFrame(\n",
    "    nmds_result.points,\n",
    "    columns=['NMDS1', 'NMDS2'],\n",
    "    index=cars_numeric.index\n",
    ")\n",
    "nmds_scores['Origin'] = origin_groups.values\n",
    "\n",
    "# Plot NMDS ordination\n",
    "fig, ax = plt.subplots(figsize=(12, 8))\n",
    "\n",
    "for origin, color in zip(origins, colors):\n",
    "    subset = nmds_scores[nmds_scores['Origin'] == origin]\n",
    "    ax.scatter(subset['NMDS1'], subset['NMDS2'], \n",
    "               label=origin, alpha=0.6, s=80, color=color, edgecolors='black', linewidth=0.5)\n",
    "\n",
    "ax.set_xlabel('NMDS1', fontsize=12)\n",
    "ax.set_ylabel('NMDS2', fontsize=12)\n",
    "ax.set_title(f'NMDS Ordination of Cars by Origin\\nStress: {nmds_result.stress:.4f}',\n",
    "             fontsize=14, fontweight='bold')\n",
    "ax.legend(title='Origin', fontsize=10)\n",
    "ax.grid(True, alpha=0.3)\n",
    "ax.axhline(y=0, color='k', linestyle='--', alpha=0.3)\n",
    "ax.axvline(x=0, color='k', linestyle='--', alpha=0.3)\n",
    "\n",
    "plt.tight_layout()\n",
    "plt.show()"
   ]
  },
  {
   "cell_type": "markdown",
   "metadata": {},
   "source": [
    "## PERMANOVA Test\n",
    "\n",
    "Test if car attributes differ significantly between origins."
   ]
  },
  {
   "cell_type": "code",
   "execution_count": null,
   "metadata": {},
   "outputs": [],
   "source": [
    "# Calculate distance matrix\n",
    "dist_matrix = nuee.vegdist(cars_positive, method='euclidean')\n",
    "\n",
    "# Perform PERMANOVA\n",
    "permanova_result = nuee.adonis2(\n",
    "    dist_matrix, \n",
    "    pd.DataFrame({'Origin': origin_groups.values}, index=cars_positive.index)\n",
    ")\n",
    "\n",
    "print(\"PERMANOVA Results:\")\n",
    "print(permanova_result)"
   ]
  },
  {
   "cell_type": "markdown",
   "metadata": {},
   "source": [
    "## Comparative Box Plots"
   ]
  },
  {
   "cell_type": "code",
   "execution_count": null,
   "metadata": {},
   "outputs": [],
   "source": [
    "# Create comparison plots for key variables\n",
    "fig, axes = plt.subplots(2, 3, figsize=(16, 10))\n",
    "axes = axes.ravel()\n",
    "\n",
    "for idx, col in enumerate(numeric_cols):\n",
    "    plot_data = pd.DataFrame({\n",
    "        col: cars_clean[col],\n",
    "        'Origin': origin_groups\n",
    "    })\n",
    "    \n",
    "    sns.boxplot(data=plot_data, x='Origin', y=col, ax=axes[idx], palette='Set1')\n",
    "    axes[idx].set_title(col, fontsize=12, fontweight='bold')\n",
    "    axes[idx].set_xlabel('')\n",
    "    axes[idx].grid(True, alpha=0.3, axis='y')\n",
    "\n",
    "plt.suptitle('Comparison of Car Attributes by Origin', fontsize=16, fontweight='bold', y=1.00)\n",
    "plt.tight_layout()\n",
    "plt.show()"
   ]
  },
  {
   "cell_type": "markdown",
   "metadata": {},
   "source": [
    "## Summary Statistics by Origin"
   ]
  },
  {
   "cell_type": "code",
   "execution_count": null,
   "metadata": {},
   "outputs": [],
   "source": [
    "# Calculate mean values by origin\n",
    "summary_by_origin = cars_clean.groupby('Origin')[numeric_cols].mean()\n",
    "\n",
    "print(\"Mean values by origin:\")\n",
    "summary_by_origin.round(2)"
   ]
  },
  {
   "cell_type": "code",
   "execution_count": null,
   "metadata": {},
   "outputs": [],
   "source": [
    "# Create a heatmap of mean values\n",
    "fig, ax = plt.subplots(figsize=(10, 4))\n",
    "\n",
    "# Normalize by column for better visualization\n",
    "summary_normalized = (summary_by_origin - summary_by_origin.min()) / (summary_by_origin.max() - summary_by_origin.min())\n",
    "\n",
    "sns.heatmap(summary_normalized.T, annot=summary_by_origin.T.round(1), \n",
    "            fmt='g', cmap='RdYlGn', ax=ax, cbar_kws={'label': 'Normalized Value'})\n",
    "\n",
    "ax.set_title('Car Attributes by Origin (Normalized)', fontsize=14, fontweight='bold')\n",
    "ax.set_xlabel('Origin', fontsize=12)\n",
    "ax.set_ylabel('Attribute', fontsize=12)\n",
    "\n",
    "plt.tight_layout()\n",
    "plt.show()"
   ]
  },
  {
   "cell_type": "markdown",
   "metadata": {},
   "source": [
    "## Summary\n",
    "\n",
    "This notebook demonstrated:\n",
    "1. Loading and cleaning multivariate data\n",
    "2. Exploratory correlation analysis\n",
    "3. PCA with biplots and variance decomposition\n",
    "4. NMDS ordination\n",
    "5. PERMANOVA testing for group differences\n",
    "6. Comparative visualization across groups\n",
    "\n",
    "Key findings:\n",
    "- Strong correlations between weight, displacement, cylinders, and horsepower\n",
    "- Negative correlation between MPG and car size/power metrics\n",
    "- Clear separation of cars by origin in ordination space\n",
    "- Significant differences between origins confirmed by PERMANOVA\n",
    "- European and Japanese cars tend to be smaller and more fuel-efficient\n",
    "- American cars tend to be larger with more powerful engines"
   ]
  }
 ],
 "metadata": {
  "kernelspec": {
   "display_name": "Python 3",
   "language": "python",
   "name": "python3"
  },
  "language_info": {
   "codemirror_mode": {
    "name": "ipython",
    "version": 3
   },
   "file_extension": ".py",
   "mimetype": "text/x-python",
   "name": "python",
   "nbconvert_exporter": "python",
   "pygments_lexer": "ipython3",
   "version": "3.8.0"
  }
 },
 "nbformat": 4,
 "nbformat_minor": 4
}