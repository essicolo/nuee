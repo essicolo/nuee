{
 "cells": [
  {
   "cell_type": "markdown",
   "metadata": {},
   "source": [
    "# RDA Biplot Scaling Demonstration\n",
    "\n",
    "This notebook demonstrates the different scaling options available in `nuee` biplots for constrained ordination (RDA/CCA).\n",
    "\n",
    "Scaling controls how site and species scores are displayed relative to each other:\n",
    "- **scaling = 1 or \"sites\"**: Focus on sites - distances between sites approximate their ecological distances\n",
    "- **scaling = 2 or \"species\"**: Focus on species - angles between species vectors approximate their correlations\n",
    "- **scaling = 3 or \"symmetric\"**: Symmetric scaling - compromise between sites and species"
   ]
  },
  {
   "cell_type": "code",
   "execution_count": null,
   "metadata": {},
   "outputs": [],
   "source": [
    "# Import required libraries\n",
    "import nuee\n",
    "import pandas as pd\n",
    "import numpy as np\n",
    "import matplotlib.pyplot as plt\n",
    "import seaborn as sns\n",
    "from vega_datasets import data\n",
    "\n",
    "# Set plotting style\n",
    "sns.set_style('whitegrid')\n",
    "plt.rcParams['figure.figsize'] = (12, 6)"
   ]
  },
  {
   "cell_type": "markdown",
   "metadata": {},
   "source": [
    "## Load and Prepare Data\n",
    "\n",
    "We'll use the Iris dataset and perform RDA with petal length as an environmental variable."
   ]
  },
  {
   "cell_type": "code",
   "execution_count": null,
   "metadata": {},
   "outputs": [],
   "source": [
    "# Load iris dataset\n",
    "iris_df = data.iris()\n",
    "print(f\"Dataset shape: {iris_df.shape}\")\n",
    "iris_df.head()"
   ]
  },
  {
   "cell_type": "code",
   "execution_count": null,
   "metadata": {},
   "outputs": [],
   "source": [
    "# Prepare species data (response variables)\n",
    "species_data = iris_df[['sepalLength', 'sepalWidth', 'petalWidth']]\n",
    "\n",
    "# Prepare environmental data (explanatory variable)\n",
    "env_data = pd.DataFrame({\n",
    "    'PetalLength': iris_df['petalLength']\n",
    "})\n",
    "\n",
    "# Store grouping variable for later\n",
    "species_groups = iris_df['species']\n",
    "\n",
    "print(f\"Species data shape: {species_data.shape}\")\n",
    "print(f\"Environmental data shape: {env_data.shape}\")"
   ]
  },
  {
   "cell_type": "markdown",
   "metadata": {},
   "source": [
    "## Perform Redundancy Analysis (RDA)\n",
    "\n",
    "RDA is a constrained ordination method that relates species composition to environmental variables."
   ]
  },
  {
   "cell_type": "code",
   "execution_count": null,
   "metadata": {},
   "outputs": [],
   "source": [
    "# Perform RDA\n",
    "rda_result = nuee.rda(species_data, env_data)\n",
    "\n",
    "# Print variance explained\n",
    "if hasattr(rda_result, 'eigenvalues') and rda_result.eigenvalues is not None:\n",
    "    total_var = rda_result.eigenvalues.sum()\n",
    "    constrained_var = rda_result.constrained_eig.sum() if rda_result.constrained_eig is not None else 0\n",
    "    \n",
    "    print(f\"Total variance: {total_var:.4f}\")\n",
    "    print(f\"Constrained variance: {constrained_var:.4f}\")\n",
    "    print(f\"Proportion explained: {constrained_var/total_var*100:.2f}%\")\n",
    "    print(f\"\\nEigenvalues: {rda_result.eigenvalues[:3]}\")"
   ]
  },
  {
   "cell_type": "markdown",
   "metadata": {},
   "source": [
    "## Biplot with Different Scalings\n",
    "\n",
    "Let's compare the three scaling options side by side."
   ]
  },
  {
   "cell_type": "markdown",
   "metadata": {},
   "source": [
    "### Scaling 1: Focus on Sites"
   ]
  },
  {
   "cell_type": "code",
   "execution_count": null,
   "metadata": {},
   "outputs": [],
   "source": [
    "# Scaling 1 (sites)\n",
    "fig = nuee.biplot(rda_result, scaling=1, figsize=(10, 8))\n",
    "plt.title('RDA Biplot - Scaling 1 (Sites)\\nDistances between sites are approximations of their similarities',\n",
    "          fontsize=14, fontweight='bold')\n",
    "plt.show()\n",
    "\n",
    "print(\"Scaling 1 (sites): Use this when you want to interpret distances between samples/sites.\")\n",
    "print(\"Sites that are close together in the plot are ecologically similar.\")"
   ]
  },
  {
   "cell_type": "markdown",
   "metadata": {},
   "source": [
    "### Scaling 2: Focus on Species"
   ]
  },
  {
   "cell_type": "code",
   "execution_count": null,
   "metadata": {},
   "outputs": [],
   "source": [
    "# Scaling 2 (species)\n",
    "fig = nuee.biplot(rda_result, scaling=2, figsize=(10, 8))\n",
    "plt.title('RDA Biplot - Scaling 2 (Species)\\nAngles between species/variables approximate correlations',\n",
    "          fontsize=14, fontweight='bold')\n",
    "plt.show()\n",
    "\n",
    "print(\"Scaling 2 (species): Use this when you want to interpret relationships between variables.\")\n",
    "print(\"Small angles between species vectors indicate positive correlation.\")\n",
    "print(\"Large angles (~180°) indicate negative correlation.\")"
   ]
  },
  {
   "cell_type": "markdown",
   "metadata": {},
   "source": [
    "### Scaling 3: Symmetric"
   ]
  },
  {
   "cell_type": "code",
   "execution_count": null,
   "metadata": {},
   "outputs": [],
   "source": [
    "# Scaling 3 (symmetric)\n",
    "fig = nuee.biplot(rda_result, scaling=3, figsize=(10, 8))\n",
    "plt.title('RDA Biplot - Scaling 3 (Symmetric)\\nCompromise between sites and species',\n",
    "          fontsize=14, fontweight='bold')\n",
    "plt.show()\n",
    "\n",
    "print(\"Scaling 3 (symmetric): Use this for a balanced view of both sites and species.\")\n",
    "print(\"This is a compromise that doesn't strongly favor either interpretation.\")"
   ]
  },
  {
   "cell_type": "markdown",
   "metadata": {},
   "source": [
    "## Side-by-Side Comparison\n",
    "\n",
    "Let's plot all three scalings together for direct comparison."
   ]
  },
  {
   "cell_type": "code",
   "execution_count": null,
   "metadata": {},
   "outputs": [],
   "source": [
    "# Create side-by-side comparison\n",
    "fig, axes = plt.subplots(1, 3, figsize=(18, 5))\n",
    "\n",
    "scaling_names = ['Sites (1)', 'Species (2)', 'Symmetric (3)']\n",
    "scaling_values = [1, 2, 3]\n",
    "\n",
    "for idx, (ax, name, scaling) in enumerate(zip(axes, scaling_names, scaling_values)):\n",
    "    # We need to manually create the plots since biplot creates its own figure\n",
    "    # For now, let's create separate figures\n",
    "    pass\n",
    "\n",
    "# Note: Due to the current implementation, we'll show them separately above\n",
    "# A more advanced implementation would allow passing an axes object to biplot()\n",
    "print(\"See the three separate plots above for comparison.\")\n",
    "print(\"\\nKey differences:\")\n",
    "print(\"- Scaling 1: Sites are spread out, species vectors are compressed\")\n",
    "print(\"- Scaling 2: Species vectors are spread out, sites are compressed\")\n",
    "print(\"- Scaling 3: Both sites and species have intermediate spread\")"
   ]
  },
  {
   "cell_type": "markdown",
   "metadata": {},
   "source": [
    "## Interpretation Guide\n",
    "\n",
    "### When to use each scaling:\n",
    "\n",
    "**Scaling 1 (Sites)**:\n",
    "- When your main interest is in comparing sites/samples\n",
    "- When you want to identify which sites are similar\n",
    "- When you want to see how environmental variables relate to site positions\n",
    "- Default in many ecology applications\n",
    "\n",
    "**Scaling 2 (Species)**:\n",
    "- When your main interest is in species relationships\n",
    "- When you want to understand species-environment correlations\n",
    "- When you want to see which species co-occur\n",
    "- Useful for understanding community assembly\n",
    "\n",
    "**Scaling 3 (Symmetric)**:\n",
    "- When you want a balanced view of both sites and species\n",
    "- For exploratory analysis\n",
    "- When presenting to audiences unfamiliar with the scaling concept\n",
    "\n",
    "### Reading the biplot:\n",
    "\n",
    "1. **Environmental arrows (blue)**: \n",
    "   - Point in the direction of maximum change for that variable\n",
    "   - Length indicates strength of relationship\n",
    "   - Sites in the direction of the arrow have high values for that variable\n",
    "\n",
    "2. **Species vectors (red triangles)**:\n",
    "   - Show where each response variable has its maximum\n",
    "   - Angles between species indicate correlations (in scaling 2)\n",
    "\n",
    "3. **Site points (blue dots)**:\n",
    "   - Show the position of each sample in ordination space\n",
    "   - Distances between sites are meaningful (in scaling 1)"
   ]
  },
  {
   "cell_type": "markdown",
   "metadata": {},
   "source": [
    "## Summary\n",
    "\n",
    "This notebook demonstrated:\n",
    "1. How to perform RDA with `nuee`\n",
    "2. The three different scaling options for biplots\n",
    "3. How to interpret each scaling type\n",
    "4. When to use each scaling\n",
    "\n",
    "The choice of scaling depends on your research question:\n",
    "- Use **scaling 1** for site-focused analyses\n",
    "- Use **scaling 2** for species-focused analyses  \n",
    "- Use **scaling 3** for a balanced overview\n",
    "\n",
    "Remember: the underlying ordination is the same - only the visualization changes!"
   ]
  }
 ],
 "metadata": {
  "kernelspec": {
   "display_name": "Python 3",
   "language": "python",
   "name": "python3"
  },
  "language_info": {
   "codemirror_mode": {
    "name": "ipython",
    "version": 3
   },
   "file_extension": ".py",
   "mimetype": "text/x-python",
   "name": "python",
   "nbconvert_exporter": "python",
   "pygments_lexer": "ipython3",
   "version": "3.8.0"
  }
 },
 "nbformat": 4,
 "nbformat_minor": 4
}
