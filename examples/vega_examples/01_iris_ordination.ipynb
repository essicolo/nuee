{
 "cells": [
  {
   "cell_type": "markdown",
   "metadata": {},
   "source": [
    "# NMDS Ordination with Iris Dataset\n",
    "\n",
    "This notebook demonstrates the use of `nuee` package for ordination analysis using the classic Iris dataset from vega-datasets.\n",
    "\n",
    "The Iris dataset contains measurements of three species (*Iris setosa*, *I. versicolor*, and *I. virginica*), which we'll treat as \"sites\" with four traits as \"species\" for demonstration purposes."
   ]
  },
  {
   "cell_type": "code",
   "execution_count": null,
   "metadata": {},
   "outputs": [],
   "source": [
    "# Import required libraries\n",
    "import nuee\n",
    "import pandas as pd\n",
    "import numpy as np\n",
    "import matplotlib.pyplot as plt\n",
    "import seaborn as sns\n",
    "from vega_datasets import data\n",
    "\n",
    "# Set plotting style\n",
    "sns.set_style('whitegrid')\n",
    "plt.rcParams['figure.figsize'] = (10, 6)"
   ]
  },
  {
   "cell_type": "markdown",
   "metadata": {},
   "source": [
    "## Load and Prepare Data"
   ]
  },
  {
   "cell_type": "code",
   "execution_count": null,
   "metadata": {},
   "outputs": [],
   "source": [
    "# Load iris dataset\n",
    "iris_df = data.iris()\n",
    "print(f\"Dataset shape: {iris_df.shape}\")\n",
    "print(f\"\\nFirst few rows:\")\n",
    "iris_df.head()"
   ]
  },
  {
   "cell_type": "code",
   "execution_count": null,
   "metadata": {},
   "outputs": [],
   "source": [
    "# Prepare data matrix (measurements) and grouping variable (species)\n",
    "measurements = iris_df[['sepalLength', 'sepalWidth', 'petalLength', 'petalWidth']]\n",
    "species_groups = iris_df['species']\n",
    "\n",
    "print(f\"Measurements shape: {measurements.shape}\")\n",
    "print(f\"Species counts:\\n{species_groups.value_counts()}\")"
   ]
  },
  {
   "cell_type": "markdown",
   "metadata": {},
   "source": [
    "## Diversity Analysis\n",
    "\n",
    "First, let's calculate diversity indices treating each individual as a \"site\" with measurements as \"species abundances\"."
   ]
  },
  {
   "cell_type": "code",
   "execution_count": null,
   "metadata": {},
   "outputs": [],
   "source": [
    "# Calculate Shannon diversity\n",
    "shannon_div = nuee.shannon(measurements)\n",
    "print(f\"Shannon diversity - Mean: {shannon_div.mean():.3f}, Std: {shannon_div.std():.3f}\")\n",
    "\n",
    "# Calculate Simpson diversity\n",
    "simpson_div = nuee.simpson(measurements)\n",
    "print(f\"Simpson diversity - Mean: {simpson_div.mean():.3f}, Std: {simpson_div.std():.3f}\")\n",
    "\n",
    "# Species richness\n",
    "richness = nuee.specnumber(measurements)\n",
    "print(f\"Species richness - Mean: {richness.mean():.3f}, Std: {richness.std():.3f}\")"
   ]
  },
  {
   "cell_type": "code",
   "execution_count": null,
   "metadata": {},
   "outputs": [],
   "source": "# Create diversity comparison plot\ndiversity_df = pd.DataFrame({\n    'Shannon': shannon_div.values,\n    'Simpson': simpson_div.values,\n    'Richness': richness.values,\n    'Species': species_groups.values\n})\n\nfig, axes = plt.subplots(1, 3, figsize=(15, 4))\n\nfor idx, metric in enumerate(['Shannon', 'Simpson', 'Richness']):\n    sns.boxplot(data=diversity_df, x='Species', y=metric, ax=axes[idx])\n    axes[idx].set_title(f'{metric} Diversity by Species')\n    axes[idx].set_xlabel('')\n    \nplt.tight_layout()\nplt.show()"
  },
  {
   "cell_type": "markdown",
   "metadata": {},
   "source": [
    "## NMDS Ordination\n",
    "\n",
    "Perform Non-metric Multidimensional Scaling to visualize similarity patterns."
   ]
  },
  {
   "cell_type": "code",
   "execution_count": null,
   "metadata": {},
   "outputs": [],
   "source": [
    "# Perform NMDS\n",
    "nmds_result = nuee.metaMDS(measurements, k=2, distance='euclidean', trymax=20, trace=True)\n",
    "print(f\"\\nNMDS Stress: {nmds_result.stress:.4f}\")\n",
    "print(f\"Converged: {nmds_result.converged}\")"
   ]
  },
  {
   "cell_type": "code",
   "execution_count": null,
   "metadata": {},
   "outputs": [],
   "source": [
    "# Extract NMDS scores\n",
    "nmds_scores = nmds_result.points\n",
    "nmds_df = pd.DataFrame(\n",
    "    nmds_scores, \n",
    "    columns=['NMDS1', 'NMDS2'],\n",
    "    index=measurements.index\n",
    ")\n",
    "nmds_df['Species'] = species_groups.values\n",
    "\n",
    "# Plot NMDS ordination\n",
    "fig, ax = plt.subplots(figsize=(10, 8))\n",
    "\n",
    "species_list = nmds_df['Species'].unique()\n",
    "colors = sns.color_palette('Set2', n_colors=len(species_list))\n",
    "\n",
    "for species, color in zip(species_list, colors):\n",
    "    subset = nmds_df[nmds_df['Species'] == species]\n",
    "    ax.scatter(subset['NMDS1'], subset['NMDS2'], \n",
    "               label=species, alpha=0.7, s=100, color=color)\n",
    "\n",
    "ax.set_xlabel('NMDS1')\n",
    "ax.set_ylabel('NMDS2')\n",
    "ax.set_title(f'NMDS Ordination of Iris Dataset\\nStress: {nmds_result.stress:.4f}')\n",
    "ax.legend(title='Species', bbox_to_anchor=(1.05, 1), loc='upper left')\n",
    "ax.grid(True, alpha=0.3)\n",
    "\n",
    "plt.tight_layout()\n",
    "plt.show()"
   ]
  },
  {
   "cell_type": "markdown",
   "metadata": {},
   "source": [
    "## PCA Analysis\n",
    "\n",
    "Let's also perform Principal Component Analysis for comparison."
   ]
  },
  {
   "cell_type": "code",
   "execution_count": null,
   "metadata": {},
   "outputs": [],
   "source": "# Perform PCA\npca_result = nuee.pca(measurements)\n\n# Extract PCA scores\npca_scores = pca_result.points\npca_df = pd.DataFrame(\n    pca_scores[:, :2],\n    columns=['PC1', 'PC2'],\n    index=measurements.index\n)\npca_df['Species'] = species_groups.values\n\n# Plot PCA\nfig, ax = plt.subplots(figsize=(10, 8))\n\nfor species, color in zip(species_list, colors):\n    subset = pca_df[pca_df['Species'] == species]\n    ax.scatter(subset['PC1'], subset['PC2'], \n               label=species, alpha=0.7, s=100, color=color)\n\n# Get variance explained\nvar_explained = pca_result.eigenvalues / pca_result.eigenvalues.sum() * 100\n\nax.set_xlabel(f'PC1 ({var_explained[0]:.1f}%)')\nax.set_ylabel(f'PC2 ({var_explained[1]:.1f}%)')\nax.set_title('PCA Ordination of Iris Dataset')\nax.legend(title='Species', bbox_to_anchor=(1.05, 1), loc='upper left')\nax.grid(True, alpha=0.3)\n\nplt.tight_layout()\nplt.show()"
  },
  {
   "cell_type": "markdown",
   "metadata": {},
   "source": [
    "## Dissimilarity Analysis\n",
    "\n",
    "Calculate and visualize dissimilarity between observations."
   ]
  },
  {
   "cell_type": "code",
   "execution_count": null,
   "metadata": {},
   "outputs": [],
   "source": [
    "# Calculate Bray-Curtis dissimilarity\n",
    "dist_matrix = nuee.vegdist(measurements, method='euclidean')\n",
    "print(f\"Distance matrix shape: {dist_matrix.shape}\")\n",
    "\n",
    "# Perform PERMANOVA to test for differences between species\n",
    "permanova_result = nuee.adonis2(dist_matrix, pd.DataFrame({'Species': species_groups}))\n",
    "print(f\"\\nPERMANOVA Results:\")\n",
    "print(permanova_result)"
   ]
  },
  {
   "cell_type": "markdown",
   "metadata": {},
   "source": [
    "## Summary\n",
    "\n",
    "This notebook demonstrated:\n",
    "1. Loading data from vega-datasets\n",
    "2. Calculating diversity indices with `nuee`\n",
    "3. Performing NMDS ordination\n",
    "4. Comparing with PCA\n",
    "5. Testing group differences with PERMANOVA\n",
    "\n",
    "The analysis shows clear separation between the three iris species in ordination space, confirmed by significant PERMANOVA results."
   ]
  }
 ],
 "metadata": {
  "kernelspec": {
   "display_name": "Python 3",
   "language": "python",
   "name": "python3"
  },
  "language_info": {
   "codemirror_mode": {
    "name": "ipython",
    "version": 3
   },
   "file_extension": ".py",
   "mimetype": "text/x-python",
   "name": "python",
   "nbconvert_exporter": "python",
   "pygments_lexer": "ipython3",
   "version": "3.8.0"
  }
 },
 "nbformat": 4,
 "nbformat_minor": 4
}